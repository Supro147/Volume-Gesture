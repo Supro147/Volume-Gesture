{
 "cells": [
  {
   "cell_type": "code",
   "execution_count": 9,
   "metadata": {},
   "outputs": [
    {
     "name": "stdout",
     "output_type": "stream",
     "text": [
      "Requirement already satisfied: opencv-python in c:\\users\\kiit\\anaconda3\\lib\\site-packages (4.7.0.68)\n",
      "Requirement already satisfied: numpy>=1.17.0; python_version >= \"3.7\" in c:\\users\\kiit\\anaconda3\\lib\\site-packages (from opencv-python) (1.19.2)\n"
     ]
    }
   ],
   "source": [
    "!pip install opencv-python"
   ]
  },
  {
   "cell_type": "code",
   "execution_count": 10,
   "metadata": {},
   "outputs": [
    {
     "name": "stdout",
     "output_type": "stream",
     "text": [
      "Requirement already satisfied: mediapipe in c:\\users\\kiit\\anaconda3\\lib\\site-packages (0.9.1.0)\n",
      "Requirement already satisfied: absl-py in c:\\users\\kiit\\anaconda3\\lib\\site-packages (from mediapipe) (1.4.0)\n",
      "Requirement already satisfied: flatbuffers>=2.0 in c:\\users\\kiit\\anaconda3\\lib\\site-packages (from mediapipe) (23.1.21)\n",
      "Requirement already satisfied: matplotlib in c:\\users\\kiit\\anaconda3\\lib\\site-packages (from mediapipe) (3.3.2)\n",
      "Requirement already satisfied: protobuf<4,>=3.11 in c:\\users\\kiit\\anaconda3\\lib\\site-packages (from mediapipe) (3.17.3)\n",
      "Requirement already satisfied: opencv-contrib-python in c:\\users\\kiit\\anaconda3\\lib\\site-packages (from mediapipe) (4.7.0.72)\n",
      "Requirement already satisfied: attrs>=19.1.0 in c:\\users\\kiit\\anaconda3\\lib\\site-packages (from mediapipe) (20.3.0)\n",
      "Requirement already satisfied: numpy in c:\\users\\kiit\\anaconda3\\lib\\site-packages (from mediapipe) (1.19.2)\n",
      "Requirement already satisfied: certifi>=2020.06.20 in c:\\users\\kiit\\anaconda3\\lib\\site-packages (from matplotlib->mediapipe) (2020.6.20)\n",
      "Requirement already satisfied: kiwisolver>=1.0.1 in c:\\users\\kiit\\anaconda3\\lib\\site-packages (from matplotlib->mediapipe) (1.3.0)\n",
      "Requirement already satisfied: cycler>=0.10 in c:\\users\\kiit\\anaconda3\\lib\\site-packages (from matplotlib->mediapipe) (0.10.0)\n",
      "Requirement already satisfied: python-dateutil>=2.1 in c:\\users\\kiit\\anaconda3\\lib\\site-packages (from matplotlib->mediapipe) (2.8.1)\n",
      "Requirement already satisfied: pillow>=6.2.0 in c:\\users\\kiit\\anaconda3\\lib\\site-packages (from matplotlib->mediapipe) (8.0.1)\n",
      "Requirement already satisfied: pyparsing!=2.0.4,!=2.1.2,!=2.1.6,>=2.0.3 in c:\\users\\kiit\\anaconda3\\lib\\site-packages (from matplotlib->mediapipe) (2.4.7)\n",
      "Requirement already satisfied: six>=1.9 in c:\\users\\kiit\\anaconda3\\lib\\site-packages (from protobuf<4,>=3.11->mediapipe) (1.15.0)\n"
     ]
    }
   ],
   "source": [
    "!pip install mediapipe"
   ]
  },
  {
   "cell_type": "code",
   "execution_count": 11,
   "metadata": {},
   "outputs": [
    {
     "name": "stdout",
     "output_type": "stream",
     "text": [
      "Requirement already satisfied: comtypes in c:\\users\\kiit\\anaconda3\\lib\\site-packages (1.1.7)\n"
     ]
    }
   ],
   "source": [
    "!pip install comtypes\n"
   ]
  },
  {
   "cell_type": "code",
   "execution_count": 12,
   "metadata": {},
   "outputs": [
    {
     "name": "stdout",
     "output_type": "stream",
     "text": [
      "Requirement already satisfied: pycaw in c:\\users\\kiit\\anaconda3\\lib\\site-packages (20220416)\n",
      "Requirement already satisfied: comtypes in c:\\users\\kiit\\anaconda3\\lib\\site-packages (from pycaw) (1.1.7)\n",
      "Requirement already satisfied: psutil in c:\\users\\kiit\\anaconda3\\lib\\site-packages (from pycaw) (5.7.2)\n"
     ]
    }
   ],
   "source": [
    "!pip install pycaw"
   ]
  },
  {
   "cell_type": "code",
   "execution_count": null,
   "metadata": {},
   "outputs": [],
   "source": [
    "import cv2\n",
    "import mediapipe as mp\n",
    "import math\n",
    "import numpy as np\n",
    "from ctypes import cast, POINTER\n",
    "from comtypes import CLSCTX_ALL\n",
    "from pycaw.pycaw import AudioUtilities, IAudioEndpointVolume\n",
    "\n",
    "# solution APIs\n",
    "mp_drawing = mp.solutions.drawing_utils\n",
    "mp_drawing_styles = mp.solutions.drawing_styles\n",
    "mp_hands = mp.solutions.hands\n",
    "\n",
    "# Volume Control Library Usage \n",
    "devices = AudioUtilities.GetSpeakers()\n",
    "interface = devices.Activate(IAudioEndpointVolume._iid_, CLSCTX_ALL, None)\n",
    "volume = cast(interface, POINTER(IAudioEndpointVolume))\n",
    "volRange = volume.GetVolumeRange()\n",
    "minVol , maxVol , volBar, volPer= volRange[0] , volRange[1], 400, 0\n",
    "\n",
    "# Webcam Setup\n",
    "wCam, hCam = 640, 480\n",
    "cam = cv2.VideoCapture(0)\n",
    "cam.set(3,wCam)\n",
    "cam.set(4,hCam)\n",
    "\n",
    "# Mediapipe Hand Landmark Model\n",
    "with mp_hands.Hands(\n",
    "    model_complexity=0,\n",
    "    min_detection_confidence=0.5,\n",
    "    min_tracking_confidence=0.5) as hands:\n",
    "\n",
    "  while cam.isOpened():\n",
    "    success, image = cam.read()\n",
    "\n",
    "    image = cv2.cvtColor(image, cv2.COLOR_BGR2RGB)\n",
    "    results = hands.process(image)\n",
    "    image = cv2.cvtColor(image, cv2.COLOR_RGB2BGR)\n",
    "    if results.multi_hand_landmarks:\n",
    "      for hand_landmarks in results.multi_hand_landmarks:\n",
    "        mp_drawing.draw_landmarks(\n",
    "            image,\n",
    "            hand_landmarks,\n",
    "            mp_hands.HAND_CONNECTIONS,\n",
    "            mp_drawing_styles.get_default_hand_landmarks_style(),\n",
    "            mp_drawing_styles.get_default_hand_connections_style()\n",
    "            )\n",
    "\n",
    "    # multi_hand_landmarks method for Finding postion of Hand landmarks      \n",
    "    lmList = []\n",
    "    if results.multi_hand_landmarks:\n",
    "      myHand = results.multi_hand_landmarks[0]\n",
    "      for id, lm in enumerate(myHand.landmark):\n",
    "        h, w, c = image.shape\n",
    "        cx, cy = int(lm.x * w), int(lm.y * h)\n",
    "        lmList.append([id, cx, cy])          \n",
    "\n",
    "    # Assigning variables for Thumb and Index finger position\n",
    "    if len(lmList) != 0:\n",
    "      x1, y1 = lmList[4][1], lmList[4][2]\n",
    "      x2, y2 = lmList[8][1], lmList[8][2]\n",
    "\n",
    "      # Marking Thumb and Index finger\n",
    "      cv2.circle(image, (x1,y1),15,(255,255,255))  \n",
    "      cv2.circle(image, (x2,y2),15,(255,255,255))   \n",
    "      cv2.line(image,(x1,y1),(x2,y2),(0,255,0),3)\n",
    "      length = math.hypot(x2-x1,y2-y1)\n",
    "      if length < 50:\n",
    "        cv2.line(image,(x1,y1),(x2,y2),(0,0,255),3)\n",
    "\n",
    "      vol = np.interp(length, [50, 220], [minVol, maxVol])\n",
    "      volume.SetMasterVolumeLevel(vol, None)\n",
    "      volBar = np.interp(length, [50, 220], [400, 150])\n",
    "      volPer = np.interp(length, [50, 220], [0, 100])\n",
    "\n",
    "      # Volume Bar\n",
    "      cv2.rectangle(image, (50, 150), (85, 400), (0, 0, 0), 3)\n",
    "      cv2.rectangle(image, (50, int(volBar)), (85, 400), (0, 0, 0), cv2.FILLED)\n",
    "      cv2.putText(image, f'{int(volPer)} %', (40, 450), cv2.FONT_HERSHEY_COMPLEX,\n",
    "                1, (0, 0, 0), 3)\n",
    "    \n",
    "    cv2.imshow('handDetector', image) \n",
    "    if cv2.waitKey(1) & 0xFF == ord('q'):\n",
    "      break\n",
    "cam.release()"
   ]
  }
 ],
 "metadata": {
  "kernelspec": {
   "display_name": "Python 3",
   "language": "python",
   "name": "python3"
  },
  "language_info": {
   "codemirror_mode": {
    "name": "ipython",
    "version": 3
   },
   "file_extension": ".py",
   "mimetype": "text/x-python",
   "name": "python",
   "nbconvert_exporter": "python",
   "pygments_lexer": "ipython3",
   "version": "3.8.5"
  }
 },
 "nbformat": 4,
 "nbformat_minor": 4
}
